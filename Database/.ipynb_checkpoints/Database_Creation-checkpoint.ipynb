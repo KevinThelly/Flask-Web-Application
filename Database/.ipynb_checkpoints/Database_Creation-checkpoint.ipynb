{
 "cells": [
  {
   "cell_type": "code",
   "execution_count": 15,
   "metadata": {},
   "outputs": [],
   "source": [
    "import sqlite3"
   ]
  },
  {
   "cell_type": "code",
   "execution_count": 16,
   "metadata": {},
   "outputs": [
    {
     "name": "stdout",
     "output_type": "stream",
     "text": [
      "Opened database successfully\n"
     ]
    },
    {
     "ename": "OperationalError",
     "evalue": "table TASKS already exists",
     "output_type": "error",
     "traceback": [
      "\u001b[1;31m---------------------------------------------------------------------------\u001b[0m",
      "\u001b[1;31mOperationalError\u001b[0m                          Traceback (most recent call last)",
      "\u001b[1;32m<ipython-input-16-6bf7abd2c60b>\u001b[0m in \u001b[0;36m<module>\u001b[1;34m\u001b[0m\n\u001b[0;32m      6\u001b[0m          \u001b[0mTask\u001b[0m           \u001b[0mCHAR\u001b[0m\u001b[1;33m(\u001b[0m\u001b[1;36m100\u001b[0m\u001b[1;33m)\u001b[0m    \u001b[0mNOT\u001b[0m \u001b[0mNULL\u001b[0m\u001b[1;33m,\u001b[0m\u001b[1;33m\u001b[0m\u001b[1;33m\u001b[0m\u001b[0m\n\u001b[0;32m      7\u001b[0m          \u001b[0mDue_By\u001b[0m        \u001b[0mdatetime\u001b[0m         \u001b[0mNOT\u001b[0m \u001b[0mNULL\u001b[0m\u001b[1;33m,\u001b[0m\u001b[1;33m\u001b[0m\u001b[1;33m\u001b[0m\u001b[0m\n\u001b[1;32m----> 8\u001b[1;33m          Status        CHAR(50) );''')\n\u001b[0m\u001b[0;32m      9\u001b[0m \u001b[0mconn\u001b[0m\u001b[1;33m.\u001b[0m\u001b[0mclose\u001b[0m\u001b[1;33m\u001b[0m\u001b[1;33m\u001b[0m\u001b[0m\n",
      "\u001b[1;31mOperationalError\u001b[0m: table TASKS already exists"
     ]
    }
   ],
   "source": [
    "conn = sqlite3.connect('test.db')\n",
    "\n",
    "print(\"Opened database successfully\")\n",
    "conn.execute('''CREATE TABLE TASKS\n",
    "         (ID INT PRIMARY KEY     NOT NULL,\n",
    "         Task           CHAR(100)    NOT NULL,\n",
    "         Due_By        datetime         NOT NULL,\n",
    "         Status        CHAR(50) );''')\n",
    "conn.close"
   ]
  },
  {
   "cell_type": "code",
   "execution_count": 17,
   "metadata": {},
   "outputs": [],
   "source": [
    "conn = sqlite3.connect('test.db')\n",
    "# print \"Opened database successfully\";\n",
    "\n",
    "conn.execute(\"INSERT INTO TASKS (ID,Task,Due_By,Status) \\\n",
    "      VALUES (1, 'Order food from swiggy', '2019-05-20', 'Not Started')\");\n",
    "\n",
    "conn.execute(\"INSERT INTO TASKS (ID,Task,Due_By,Status) \\\n",
    "      VALUES (2, 'Buy Grocery from BigBasket', '2019-05-25', 'Not Started')\");\n",
    "\n",
    "conn.execute(\"INSERT INTO TASKS (ID,Task,Due_By,Status) \\\n",
    "      VALUES (3, 'Buy Books', '2019-05-24', 'Finished')\");\n",
    "\n",
    "\n",
    "\n",
    "\n",
    "conn.commit()\n",
    "# print \"Records created successfully\";\n",
    "conn.close()"
   ]
  },
  {
   "cell_type": "code",
   "execution_count": 18,
   "metadata": {},
   "outputs": [
    {
     "name": "stdout",
     "output_type": "stream",
     "text": [
      "<sqlite3.Cursor object at 0x0000024AD5BAEA40>\n",
      "ID =  1\n",
      "NAME =  Order food from swiggy\n",
      "ADDRESS =  20-5-2019\n",
      "SALARY =  Not Started\n",
      "ID =  2\n",
      "NAME =  Buy Grocery from BigBasket\n",
      "ADDRESS =  25-5-2019\n",
      "SALARY =  Not Started\n",
      "ID =  3\n",
      "NAME =  Buy Books\n",
      "ADDRESS =  24-5-2019\n",
      "SALARY =  Finished\n"
     ]
    }
   ],
   "source": [
    "conn = sqlite3.connect('test.db')\n",
    "cursor = conn.execute(\"SELECT id, Task, Due_By, Status from Tasks\")\n",
    "print(cursor)\n",
    "ID=1\n",
    "for row in cursor:\n",
    "    ID=row[0]\n",
    "    print(\"ID = \", row[0])\n",
    "    print(\"NAME = \", row[1])\n",
    "    print(\"ADDRESS = \", row[2])\n",
    "    print(\"SALARY = \", row[3])\n",
    "conn.close()"
   ]
  },
  {
   "cell_type": "code",
   "execution_count": 13,
   "metadata": {},
   "outputs": [],
   "source": [
    "conn=sqlite3.connect('test.db')\n",
    "conn.execute(\"drop TABLE Tasks\")\n",
    "conn.close()"
   ]
  },
  {
   "cell_type": "code",
   "execution_count": 19,
   "metadata": {},
   "outputs": [
    {
     "data": {
      "text/plain": [
       "3"
      ]
     },
     "execution_count": 19,
     "metadata": {},
     "output_type": "execute_result"
    }
   ],
   "source": [
    "conn = sqlite3.connect('test.db')\n",
    "query=\"select ID from TASKS ORDER BY id DESC LIMIT 1;\"\n",
    "cur=conn.cursor()\n",
    "id=cur.execute(query).fetchall()\n",
    "id[0][0]"
   ]
  },
  {
   "cell_type": "code",
   "execution_count": null,
   "metadata": {},
   "outputs": [],
   "source": []
  }
 ],
 "metadata": {
  "kernelspec": {
   "display_name": "Python 3",
   "language": "python",
   "name": "python3"
  },
  "language_info": {
   "codemirror_mode": {
    "name": "ipython",
    "version": 3
   },
   "file_extension": ".py",
   "mimetype": "text/x-python",
   "name": "python",
   "nbconvert_exporter": "python",
   "pygments_lexer": "ipython3",
   "version": "3.7.2"
  }
 },
 "nbformat": 4,
 "nbformat_minor": 2
}
