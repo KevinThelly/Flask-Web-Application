{
 "cells": [
  {
   "cell_type": "code",
   "execution_count": 75,
   "metadata": {},
   "outputs": [],
   "source": [
    "import sqlite3"
   ]
  },
  {
   "cell_type": "code",
   "execution_count": 76,
   "metadata": {},
   "outputs": [
    {
     "name": "stdout",
     "output_type": "stream",
     "text": [
      "Opened database successfully\n"
     ]
    },
    {
     "data": {
      "text/plain": [
       "<function Connection.close>"
      ]
     },
     "execution_count": 76,
     "metadata": {},
     "output_type": "execute_result"
    }
   ],
   "source": [
    "conn = sqlite3.connect('test.db')\n",
    "\n",
    "print(\"Opened database successfully\")\n",
    "conn.execute('''CREATE TABLE TASKS\n",
    "         (ID INT PRIMARY KEY     NOT NULL,\n",
    "         Task           CHAR(100)    NOT NULL,\n",
    "         Due_By        datetime         NOT NULL,\n",
    "         Status        CHAR(50) );''')\n",
    "conn.close"
   ]
  },
  {
   "cell_type": "code",
   "execution_count": 77,
   "metadata": {},
   "outputs": [],
   "source": [
    "conn = sqlite3.connect('test.db')\n",
    "# print \"Opened database successfully\";\n",
    "\n",
    "conn.execute(\"INSERT INTO TASKS (ID,Task,Due_By,Status) \\\n",
    "      VALUES (1, 'Order food from swiggy', '20-5-2019', 'Not Started')\");\n",
    "\n",
    "conn.execute(\"INSERT INTO TASKS (ID,Task,Due_By,Status) \\\n",
    "      VALUES (2, 'Buy Grocery from BigBasket', '25-5-2019', 'Not Started')\");\n",
    "\n",
    "conn.commit()\n",
    "# print \"Records created successfully\";\n",
    "conn.close()"
   ]
  },
  {
   "cell_type": "code",
   "execution_count": 78,
   "metadata": {},
   "outputs": [
    {
     "name": "stdout",
     "output_type": "stream",
     "text": [
      "<sqlite3.Cursor object at 0x0000025C831DD960>\n",
      "ID =  1\n",
      "NAME =  Order food from swiggy\n",
      "ADDRESS =  20-5-2019\n",
      "SALARY =  Not Started\n",
      "ID =  2\n",
      "NAME =  Buy Grocery from BigBasket\n",
      "ADDRESS =  25-5-2019\n",
      "SALARY =  Not Started\n"
     ]
    }
   ],
   "source": [
    "conn = sqlite3.connect('test.db')\n",
    "cursor = conn.execute(\"SELECT id, Task, Due_By, Status from Tasks\")\n",
    "print(cursor)\n",
    "ID=1\n",
    "for row in cursor:\n",
    "    ID=row[0]\n",
    "    print(\"ID = \", row[0])\n",
    "    print(\"NAME = \", row[1])\n",
    "    print(\"ADDRESS = \", row[2])\n",
    "    print(\"SALARY = \", row[3])\n",
    "conn.close()"
   ]
  },
  {
   "cell_type": "code",
   "execution_count": 74,
   "metadata": {},
   "outputs": [],
   "source": [
    "# conn=sqlite3.connect('test.db')\n",
    "# conn.execute(\"drop TABLE Tasks\")\n",
    "# conn.close()"
   ]
  },
  {
   "cell_type": "code",
   "execution_count": null,
   "metadata": {},
   "outputs": [],
   "source": []
  }
 ],
 "metadata": {
  "kernelspec": {
   "display_name": "Python 3",
   "language": "python",
   "name": "python3"
  },
  "language_info": {
   "codemirror_mode": {
    "name": "ipython",
    "version": 3
   },
   "file_extension": ".py",
   "mimetype": "text/x-python",
   "name": "python",
   "nbconvert_exporter": "python",
   "pygments_lexer": "ipython3",
   "version": "3.7.2"
  }
 },
 "nbformat": 4,
 "nbformat_minor": 2
}
